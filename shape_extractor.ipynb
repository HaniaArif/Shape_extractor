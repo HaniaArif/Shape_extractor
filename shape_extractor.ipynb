{
  "nbformat": 4,
  "nbformat_minor": 0,
  "metadata": {
    "colab": {
      "provenance": [],
      "mount_file_id": "1vgEtw0bHBoNEKkADr94xc4DocNbqc5AO",
      "authorship_tag": "ABX9TyNDaqO9CVY1fBNke1IAxRgz",
      "include_colab_link": true
    },
    "kernelspec": {
      "name": "python3",
      "display_name": "Python 3"
    },
    "language_info": {
      "name": "python"
    }
  },
  "cells": [
    {
      "cell_type": "markdown",
      "metadata": {
        "id": "view-in-github",
        "colab_type": "text"
      },
      "source": [
        "<a href=\"https://colab.research.google.com/github/HaniaArif/Shape_extractor/blob/main/shape_extractor.ipynb\" target=\"_parent\"><img src=\"https://colab.research.google.com/assets/colab-badge.svg\" alt=\"Open In Colab\"/></a>"
      ]
    },
    {
      "cell_type": "code",
      "execution_count": null,
      "metadata": {
        "id": "mv0yuyHN_YDH",
        "colab": {
          "base_uri": "https://localhost:8080/"
        },
        "outputId": "eaf59237-d9a9-4bfc-da62-e0ae124b16a2"
      },
      "outputs": [
        {
          "output_type": "stream",
          "name": "stdout",
          "text": [
            "Reading package lists... Done\n",
            "Building dependency tree       \n",
            "Reading state information... Done\n",
            "libopencv-dev is already the newest version (3.2.0+dfsg-4ubuntu0.1).\n",
            "The following NEW packages will be installed:\n",
            "  python-opencv\n",
            "0 upgraded, 1 newly installed, 0 to remove and 37 not upgraded.\n",
            "Need to get 535 kB of archives.\n",
            "After this operation, 2,944 kB of additional disk space will be used.\n",
            "Get:1 http://archive.ubuntu.com/ubuntu bionic-updates/universe amd64 python-opencv amd64 3.2.0+dfsg-4ubuntu0.1 [535 kB]\n",
            "Fetched 535 kB in 1s (489 kB/s)\n",
            "Selecting previously unselected package python-opencv.\n",
            "(Reading database ... 155229 files and directories currently installed.)\n",
            "Preparing to unpack .../python-opencv_3.2.0+dfsg-4ubuntu0.1_amd64.deb ...\n",
            "Unpacking python-opencv (3.2.0+dfsg-4ubuntu0.1) ...\n",
            "Setting up python-opencv (3.2.0+dfsg-4ubuntu0.1) ...\n"
          ]
        }
      ],
      "source": [
        " !apt-get install libopencv-dev python-opencv"
      ]
    },
    {
      "cell_type": "code",
      "source": [
        "import cv2\n",
        "import numpy as np\n",
        "from google.colab.patches import cv2_imshow\n",
        "\n",
        "frame = cv2.imread(\"/content/drive/MyDrive/shapes/rect50.png\")    #change your image path here\n",
        "\n",
        "# convert image to hsv\n",
        "hsv = cv2.cvtColor(frame, cv2.COLOR_BGR2HSV)\n",
        "size = frame.size\n",
        "\n",
        "# set the upper and lower blue color range to delete other colors from image\n",
        "lower_blue = np.array([110,190,190])\n",
        "upper_blue = np.array([130,255,255])\n",
        "\n",
        "# create a mast using detectable blue color range\n",
        "mask = cv2.inRange(hsv, lower_blue, upper_blue)\n",
        "\n",
        "# apply mask to image\n",
        "result = cv2.bitwise_and(frame,frame, mask= mask)\n",
        "\n",
        "# convert black background of result to white for proper visualization\n",
        "result[np.where((result==[0,0,0]).all(axis=2))] = [255,255,255]\n",
        "\n",
        "# convert black background of result to white for proper visualization\n",
        "result[np.where((result!=[255, 255, 255]).all(axis=2))] = [0, 0, 0]\n",
        "\n",
        "def FillHole(mask):   #for removing the plus mark in the center of the image\n",
        "  contours, hierarchy = cv2.findContours(mask, cv2.RETR_TREE, cv2.CHAIN_APPROX_SIMPLE)\n",
        "  len_contour = len (contours)\n",
        "  contour_list = []\n",
        "  for i in range(len_contour):\n",
        "    drawing = np.zeros_like(mask, np.uint8)  # create a black image\n",
        "    img_contour = cv2.drawContours(drawing, contours, i, (255, 255, 255), -1)\n",
        "    contour_list.append(img_contour)\n",
        "  out = sum(contour_list)\n",
        "  out = cv2.bitwise_not(out)\n",
        "  return out\n",
        "\n",
        "result2 = cv2.bitwise_not(result)\n",
        "gray = cv2.cvtColor(result2, cv2.COLOR_BGR2GRAY)\n",
        "mask_out = FillHole(gray)\n",
        "result2 = cv2.bitwise_not(mask_out)\n",
        "result3 = cv2.cvtColor(result2, cv2.COLOR_GRAY2BGR)\n",
        "# Detecting contours in image.\n",
        "contours, _= cv2.findContours(result2, cv2.RETR_TREE, cv2.CHAIN_APPROX_TC89_L1 )\n",
        "# print(contours)\n",
        "font = cv2.FONT_HERSHEY_COMPLEX\n",
        "# Going through every contours found in the image.\n",
        "for cnt in contours :\n",
        "  approx = cv2.approxPolyDP(cnt, 0.0001 * cv2.arcLength(cnt, True), True)\n",
        "  # print(approx)\n",
        "  # draws boundary of contours.\n",
        "  cv2.drawContours(result, [approx], 0, (0, 0, 255), 1) \n",
        "  # Used to flatted the array containing\n",
        "  # the co-ordinates of the vertices.\n",
        "  n = approx.ravel() \n",
        "  # print(n)\n",
        "  i = 0\n",
        "  p = 0\n",
        "  temp = 200/393\n",
        "  if(n.size > 50):    #if shape is a circle check it's radius and display\n",
        "    area = cv2.contourArea(cnt)\n",
        "    (cx, cy), radius = cv2.minEnclosingCircle(cnt)\n",
        "    cv2.putText(result, \"d = \"+str(round(2* radius * temp))+\"mm\", (int(cx), int(cy)), font, 0.4, (0, 255, 0))\n",
        "    break\n",
        "  else:               #if shape is not a circle check for correct contour detection\n",
        "    for k in range(2, n.size, 2):\n",
        "      # print(k)\n",
        "      # print(\"size = \", n.size/2)\n",
        "      x1 = 0\n",
        "      x2 = 0\n",
        "      x3 = 0\n",
        "      y1 = 0 \n",
        "      y2 = 0 \n",
        "      y3 = 0\n",
        "      if(k < n.size-4):\n",
        "        x2 = n[k]\n",
        "        y2 = n[k+1]\n",
        "        x1 = n[k-2]\n",
        "        y1 = n[k-1]\n",
        "        x3 = n[k+2]\n",
        "        y3 = n[k+3]\n",
        "        # print(x1, y1, x2, y2, x3, y3)\n",
        "      else:\n",
        "        x2 = n[k]\n",
        "        y2 = n[k+1]\n",
        "        x1 = n[k-2]\n",
        "        y1 = n[k-1]\n",
        "        x3 = n[0]\n",
        "        y3 = n[1]\n",
        "      if(abs(x1-x2) == 1 & abs(y2-y3) == 1):\n",
        "        n[k] = x1     # x2 = x1\n",
        "        n[k+1] = y3   # y2 = y3\n",
        "  # print(n)\n",
        "  i = 0    \n",
        "  for j in n :  \n",
        "    if(i % 2 == 0):\n",
        "      # print(i)\n",
        "      x = n[i]\n",
        "      y = n[i + 1]\n",
        "      # String containing the co-ordinates.\n",
        "      string = str(x) + \" \" + str(y) \n",
        "      if(i == 0):\n",
        "        # text on topmost co-ordinate.\n",
        "        x2 = n[n.size-2]\n",
        "        y2 = n[n.size-1] \n",
        "        # print(x, x2, y, y2)\n",
        "        r = ((((x2 - x )**2) + ((y2-y)**2) )**0.5)\n",
        "        r = round(r) * temp\n",
        "        # print(r)\n",
        "        mid_x = int((x+x2)//2)\n",
        "        # print(mid_x)\n",
        "        mid_y = int((y+y2)//2)\n",
        "        # print(mid_y)\n",
        "        cv2.putText(result, str(round(r))+\"mm\", (mid_x, mid_y), font, 0.4, (0, 255, 0)) \n",
        "      else:\n",
        "        # text on remaining co-ordinates.\n",
        "        # r = ((((x2 - x1 )**2) + ((y2-y1)**2) )**0.5)\n",
        "        # print(r)\n",
        "        x2 = n[i-2]\n",
        "        y2 = n[i-1] \n",
        "        # print(x, x2, y, y2)\n",
        "        r = ((((x2 - x )**2) + ((y2-y)**2) )**0.5)\n",
        "        # print(r)\n",
        "        r = round(r) * temp\n",
        "        # print(r)\n",
        "        mid_x = int((x+x2)//2)\n",
        "        mid_y = int((y+y2)//2)\n",
        "        cv2.putText(result, str(round(r))+\"mm\", (mid_x, mid_y), font, 0.4, (0, 255, 0))\n",
        "\n",
        "    i = i + 1\n",
        "  \n",
        "\n",
        "# result2 = cv2.bitwise_not(mask_out)\n",
        "\n",
        "# show original image\n",
        "cv2_imshow(frame)\n",
        "\n",
        "# show results\n",
        "cv2_imshow(result)\n",
        "\n",
        "#save results\n",
        "cv2.imwrite(\"result.png\", result)"
      ],
      "metadata": {
        "colab": {
          "base_uri": "https://localhost:8080/",
          "height": 1000
        },
        "id": "2ZIi_tbpCJuM",
        "outputId": "d0dade1a-47d2-4737-cc34-adb1298fcebf"
      },
      "execution_count": null,
      "outputs": [
        {
          "output_type": "display_data",
          "data": {
            "image/png": "[encoded data removed]",
            "text/plain": [
              "<PIL.Image.Image image mode=RGB size=876x509 at 0x7FBC21484E50>"
            ]
          },
          "metadata": {}
        },
        {
          "output_type": "display_data",
          "data": {
            "image/png": "[encoded data removed]",
            "text/plain": [
              "<PIL.Image.Image image mode=RGB size=876x509 at 0x7FBC21484FD0>"
            ]
          },
          "metadata": {}
        },
        {
          "output_type": "execute_result",
          "data": {
            "text/plain": [
              "True"
            ]
          },
          "metadata": {},
          "execution_count": 56
        }
      ]
    },
    {
      "cell_type": "code",
      "source": [
        "x1 = 434 #190\n",
        "y1 = 8 #7\n",
        "x2 = 434 #190\n",
        "y2 = 400 #501\n",
        "d = ((((x2 - x1 )**2) + ((y2 - y1)**2) )**0.5)\n",
        "print(d)\n"
      ],
      "metadata": {
        "id": "bNWeQaykV5Xp",
        "colab": {
          "base_uri": "https://localhost:8080/"
        },
        "outputId": "ce0d8dc3-8ccd-4554-ca58-e9c714b3c413"
      },
      "execution_count": null,
      "outputs": [
        {
          "output_type": "stream",
          "name": "stdout",
          "text": [
            "392.0\n"
          ]
        }
      ]
    },
    {
      "cell_type": "code",
      "source": [
        "x1 = 133 #190\n",
        "y1 = 150 #7\n",
        "x2 = 133 #190\n",
        "y2 = 240 #501\n",
        "d = ((((x2 - x1 )**2) + ((y2 - y1)**2) )**0.5)\n",
        "print(d)\n"
      ],
      "metadata": {
        "colab": {
          "base_uri": "https://localhost:8080/"
        },
        "outputId": "b956ad52-e5be-412c-9ec1-3eb8d0a30701",
        "id": "_D2ap_yt6L-F"
      },
      "execution_count": null,
      "outputs": [
        {
          "output_type": "stream",
          "name": "stdout",
          "text": [
            "90.0\n"
          ]
        }
      ]
    },
    {
      "cell_type": "code",
      "source": [
        "gray = cv2.cvtColor(frame, cv2.COLOR_BGR2GRAY)\n",
        "edges = cv2.Laplacian(gray,cv2.CV_8UC1)\n",
        "\n",
        "\n",
        "mask_out = FillHole(edges)\n",
        "# cv2_imshow(mask_out)\n",
        "\n",
        "\n",
        "contours, _= cv2.findContours(mask_out, cv2.RETR_TREE, cv2.CHAIN_APPROX_TC89_L1 )\n",
        "for cnt in contours :\n",
        "  approx = cv2.approxPolyDP(cnt, 0.0001 * cv2.arcLength(cnt, True), True)\n",
        "  # print(approx)\n",
        "  # draws boundary of contours.\n",
        "  cv2.drawContours(frame, [approx], 0, (0, 0, 255), 1) \n",
        "  # Used to flatted the array containing\n",
        "  # the co-ordinates of the vertices.\n",
        "  n = approx.ravel() \n",
        "  i = 0\n",
        "  p = 0\n",
        "  for j in n :\n",
        "    if(i % 2 == 0):\n",
        "      x = n[i]\n",
        "      y = n[i + 1]\n",
        "  \n",
        "      # String containing the co-ordinates.\n",
        "      string = str(x) + \" \" + str(y) \n",
        "  \n",
        "      if(i == 0):\n",
        "        # text on topmost co-ordinate.\n",
        "        cv2.putText(frame, string, (x, y),font, 0.5, (255, 0, 0)) \n",
        "      else:\n",
        "        # text on remaining co-ordinates.\n",
        "        cv2.putText(frame, string, (x, y), font, 0.5, (0, 255, 0)) \n",
        "    i = i + 1\n",
        "cv2_imshow(frame)"
      ],
      "metadata": {
        "id": "8av3YqSpIezc"
      },
      "execution_count": null,
      "outputs": []
    },
    {
      "cell_type": "code",
      "source": [
        "import cv2\n",
        "import numpy as np\n",
        "from google.colab.patches import cv2_imshow\n",
        "\n",
        "frame = cv2.imread(\"/content/drive/MyDrive/shapes/triangle.png\")    #change your image path here\n",
        "print(\"Select the type of shape for which you want to measure dimensions:\")\n",
        "print(\"[1]Circle \\t[2]Square/Rectangle \\t[3]Triangle \\t[4]Flange\")\n",
        "shape = int(input(\"Select Your Shape Option:\"))\n",
        "original_img = frame.copy()\n",
        "white_img = frame.copy()\n",
        "\n",
        "# convert image to hsv\n",
        "hsv = cv2.cvtColor(white_img, cv2.COLOR_BGR2HSV)\n",
        "size = frame.size\n",
        "\n",
        "# set the upper and lower blue color range to delete other colors from image\n",
        "lower_blue = np.array([110,190,190])\n",
        "upper_blue = np.array([130,255,255])\n",
        "\n",
        "# create a mast using detectable blue color range\n",
        "mask = cv2.inRange(hsv, lower_blue, upper_blue)\n",
        "\n",
        "# apply mask to image\n",
        "white_img = cv2.bitwise_and(white_img,white_img, mask= mask)\n",
        "\n",
        "# convert black background of result to white for proper visualization\n",
        "white_img[np.where((white_img==[0,0,0]).all(axis=2))] = [255,255,255]\n",
        "\n",
        "# convert black background of result to white for proper visualization\n",
        "white_img[np.where((white_img!=[255, 255, 255]).all(axis=2))] = [0, 0, 0]\n",
        "\n",
        "# process original image\n",
        "frame2 = frame[62:447, 245:631]\n",
        "gray = cv2.cvtColor(frame2, cv2.COLOR_BGR2GRAY)\n",
        "\n",
        "kernel = np.ones((2, 2), np.uint8)\n",
        "img_dilation = cv2.dilate(gray, kernel, iterations=1)\n",
        "# cv2_imshow(img_dilation)\n",
        "\n",
        "kernel = np.ones((2, 2), np.uint8)\n",
        "img_dilation = cv2.erode(img_dilation, kernel, iterations=1)\n",
        "# cv2_imshow(img_dilation)\n",
        "temp_tri = img_dilation[:]\n",
        "\n",
        "ret, thresh1 = cv2.threshold(img_dilation, 120, 255, cv2.THRESH_BINARY)\n",
        "ret, thresh2 = cv2.threshold(img_dilation, 200, 255, cv2.THRESH_BINARY)\n",
        "thresh2 = cv2.bitwise_not(thresh2)\n",
        "edges = cv2.Laplacian(thresh1,cv2.CV_8UC1)\n",
        "# cv2_imshow(thresh1)\n",
        "# cv2_imshow(thresh2)\n",
        "temp = cv2.bitwise_and(thresh1,thresh2)\n",
        "temp = cv2.bitwise_not(temp)\n",
        "# cv2_imshow(temp)\n",
        "kernel = np.ones((5, 5), np.uint8)\n",
        "opening = cv2.morphologyEx(temp, cv2.MORPH_OPEN, kernel)\n",
        "closing = cv2.morphologyEx(opening, cv2.MORPH_CLOSE, kernel)\n",
        "# cv2_imshow(closing)\n",
        "\n",
        "if(shape == 1):\n",
        "  kernel = np.ones((7, 7), np.uint8)\n",
        "  closing = cv2.erode(closing, kernel, iterations=1)\n",
        "\n",
        "if(shape == 3):\n",
        "  closing = temp_tri\n",
        "  # kernel = np.ones((5, 5), np.uint8)\n",
        "  # closing = cv2.erode(temp_tri, kernel, iterations=1)\n",
        "  # cv2_imshow(closing)\n",
        "\n",
        "# kernel = np.ones((5, 5), np.uint8)\n",
        "# img_dilation = cv2.dilate(edges, kernel, iterations=1)\n",
        "\n",
        "def FillHole(mask):\n",
        "  contours, hierarchy = cv2.findContours(mask, cv2.RETR_TREE, cv2.CHAIN_APPROX_SIMPLE)\n",
        "  len_contour = len (contours)\n",
        "  contour_list = []\n",
        "  for i in range(len_contour):\n",
        "    drawing = np.zeros_like(mask, np.uint8)  # create a black image\n",
        "    img_contour = cv2.drawContours(drawing, contours, i, (255, 255, 255), -1)\n",
        "    contour_list.append(img_contour)\n",
        "  out = sum(contour_list)\n",
        "  return out\n",
        "\n",
        "# out = FillHole(img_dilation)\n",
        "edges = cv2.Laplacian(closing,cv2.CV_8UC1)\n",
        "# cv2_imshow(edges)\n",
        "contours, _= cv2.findContours(edges, cv2.RETR_TREE, cv2.CHAIN_APPROX_TC89_L1 )\n",
        "font = cv2.FONT_HERSHEY_SIMPLEX\n",
        "temp = 200/392\n",
        "points = 0\n",
        "if(shape == 1): # circle\n",
        "  for cnt in contours:\n",
        "    (cx, cy), radius = cv2.minEnclosingCircle(cnt)\n",
        "    cv2.circle(frame, (int(cx)+245, int(cy)+60), 3, (0, 0, 255), -1)\n",
        "    cv2.circle(frame, (int(cx)+245, int(cy)+60), int(radius), (0, 0, 255), -1)\n",
        "    cv2.putText(frame, \"d = \"+str(round(2* radius * temp))+\"mm\", (int(cx)+245, int(cy)+60), font, 0.4, (0, 255, 0))\n",
        "    cv2.circle(white_img, (int(cx)+245, int(cy)+60), 3, (0, 0, 255), -1)\n",
        "    cv2.putText(white_img, \"d = \"+str(round(2* radius * temp))+\"mm\", (int(cx)+245, int(cy)+60), font, 0.4, (0, 255, 0))\n",
        "    break\n",
        "elif(shape == 2): # square / rectangle\n",
        "  points = 4\n",
        "elif(shape == 3): # triangle\n",
        "  points = 3\n",
        "elif(shape == 4): # flange\n",
        "  points = 8\n",
        "if(shape > 1):\n",
        "\n",
        "  corners = cv2.goodFeaturesToTrack(edges, points, 0.01, 10)\n",
        "  corners = np.int0(corners)\n",
        "  img_dilation = cv2.cvtColor(img_dilation, cv2.COLOR_GRAY2BGR)\n",
        "  for i in corners:\n",
        "    # print(i.ravel())\n",
        "    x, y = i.ravel()\n",
        "    string = str(x) + \" \" + str(y)\n",
        "    cv2.circle(frame, (x+245, y+62), 3, (0, 0, 255), -1)\n",
        "    cv2.circle(white_img, (x+245, y+62), 3, (0, 0, 255), -1)\n",
        "  i = 0\n",
        "  n = []\n",
        "  if(shape != 3):\n",
        "    flags = dict()\n",
        "    for i in corners:\n",
        "      min = 10\n",
        "      min_index = 0\n",
        "      x = 0\n",
        "      k = 0\n",
        "      for cnt in contours:\n",
        "        if(x==1):\n",
        "          for j in cnt:\n",
        "            d=0\n",
        "            x1, y1 = i.ravel()\n",
        "            x2, y2 = j.ravel()\n",
        "            d = ((((x2 - x1 )**2) + ((y2 - y1)**2) )**0.5)\n",
        "            if(d < min):\n",
        "              min = d\n",
        "              min_index = k\n",
        "            k = k+1\n",
        "        x = x+1\n",
        "      a, b = i.ravel()\n",
        "      flags[min_index] = [a, b]\n",
        "    for i in sorted (flags) :\n",
        "      x, y = flags[i]\n",
        "      n.append(flags[i])\n",
        "    # print(flags)\n",
        "  else:\n",
        "    for i in corners:\n",
        "      a, b = i.ravel()\n",
        "      n.append([a, b])\n",
        "  for i in range(0, len(n)):\n",
        "    x, y = n[i] \n",
        "    x2 = 0\n",
        "    y2 = 0 \n",
        "    if(i == len(n)-1):\n",
        "      x2, y2 = n[0]\n",
        "    else:\n",
        "      x2, y2 = n[i+1]\n",
        "    d = ((((x2 - x )**2) + ((y2-y)**2) )**0.5) * temp\n",
        "    mid_x = int((x+x2)//2)\n",
        "    mid_y = int((y+y2)//2)\n",
        "    cv2.putText(frame, str(round(d))+\"mm\", (mid_x+245, mid_y+62), font, 0.4, (0, 255, 0)) \n",
        "    cv2.putText(white_img, str(round(d))+\"mm\", (mid_x+245, mid_y+62), font, 0.4, (0, 255, 0)) \n",
        "    \n",
        "cv2_imshow(original_img)\n",
        "cv2_imshow(frame)\n",
        "cv2_imshow(white_img)"
      ],
      "metadata": {
        "colab": {
          "base_uri": "https://localhost:8080/",
          "height": 1000
        },
        "id": "R9uGYk45O1zJ",
        "outputId": "123e6e64-99a9-4222-fbf0-b3aeb2eeb8ce"
      },
      "execution_count": null,
      "outputs": [
        {
          "name": "stdout",
          "output_type": "stream",
          "text": [
            "Select the type of shape for which you want to measure dimensions:\n",
            "[1]Circle \t[2]Square/Rectangle \t[3]Triangle \t[4]Flange\n",
            "Select Your Shape Option:3\n"
          ]
        },
        {
          "output_type": "display_data",
          "data": {
            "image/png": "[encoded data removed]",
            "text/plain": [
              "<PIL.Image.Image image mode=RGB size=876x509 at 0x7F7846302C10>"
            ]
          },
          "metadata": {}
        },
        {
          "output_type": "display_data",
          "data": {
            "image/png": "[encoded data removed]",
            "text/plain": [
              "<PIL.Image.Image image mode=RGB size=876x509 at 0x7F7846302990>"
            ]
          },
          "metadata": {}
        },
        {
          "output_type": "display_data",
          "data": {
            "image/png": "[encoded data removed]",
            "text/plain": [
              "<PIL.Image.Image image mode=RGB size=876x509 at 0x7F78463026D0>"
            ]
          },
          "metadata": {}
        }
      ]
    },
    {
      "cell_type": "code",
      "source": [
        "import cv2\n",
        "import numpy as np\n",
        "from google.colab.patches import cv2_imshow\n",
        "\n",
        "frame = cv2.imread(\"/content/drive/MyDrive/shapes/rect50.png\")    #change your image path here\n",
        "frame = frame[50:455, 200:650]\n",
        "gray = cv2.cvtColor(frame, cv2.COLOR_BGR2GRAY)\n",
        "corners = cv2.goodFeaturesToTrack(gray, 4, 0.01, 10)\n",
        "corners = np.int0(corners)\n",
        "  \n",
        "# we iterate through each corner, \n",
        "# making a circle at each point that we think is a corner.\n",
        "img_dilation = cv2.cvtColor(gray, cv2.COLOR_GRAY2BGR)\n",
        "for i in corners:\n",
        "  x, y = i.ravel()\n",
        "  string = str(x) + \" \" + str(y)\n",
        "  cv2.circle(img_dilation, (x, y), 3, 255, -1)\n",
        "  cv2.putText(img_dilation, string, (x, y), font, 0.4, (0, 255, 0)) \n",
        "cv2_imshow(img_dilation)\n",
        "print(corners)"
      ],
      "metadata": {
        "colab": {
          "base_uri": "https://localhost:8080/",
          "height": 551
        },
        "id": "kKWyDPnT0XWX",
        "outputId": "9c33a46a-abcc-4b4b-d25a-c5b801e14eae"
      },
      "execution_count": null,
      "outputs": [
        {
          "output_type": "display_data",
          "data": {
            "image/png": "[encoded data removed]",
            "text/plain": [
              "<PIL.Image.Image image mode=RGB size=450x405 at 0x7F2A1A15FDD0>"
            ]
          },
          "metadata": {}
        },
        {
          "output_type": "stream",
          "name": "stdout",
          "text": [
            "[[[434 400]]\n",
            "\n",
            " [[ 41 395]]\n",
            "\n",
            " [[434   8]]\n",
            "\n",
            " [[ 41   8]]]\n"
          ]
        }
      ]
    },
    {
      "cell_type": "code",
      "source": [
        "x = 1"
      ],
      "metadata": {
        "id": "ahOGu9rP7blg"
      },
      "execution_count": null,
      "outputs": []
    }
  ]
}